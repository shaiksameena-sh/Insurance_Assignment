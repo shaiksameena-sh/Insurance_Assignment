{
 "cells": [
  {
   "cell_type": "code",
   "execution_count": 1,
   "id": "369cd14f-dd8c-463e-8131-b93f6609ba6f",
   "metadata": {},
   "outputs": [
    {
     "data": {
      "text/plain": [
       "['CLAIM_ID,CLAIM_DATE,CUSTOMER_ID,CLAIM_AMOUNT,PREMIUM_COLLECTED,PAID_AMOUNT,CITY,REJECTION_REMARKS\\n',\n",
       " 'CLM100021,2025-04-01,CUST14285,10419.0,2198.59,6964.46,PUNE,\\n',\n",
       " 'CLM100013,2025-04-01,CUST26471,42468.0,8982.2,30119.67,GUWAHATI,\\n',\n",
       " 'CLM100099,2025-04-02,CUST29309,55897.0,1861.78,55657.15,GUWAHATI,\\n',\n",
       " 'CLM100044,2025-04-02,CUST30275,71785.0,13154.99,53629.3,PUNE,\\n']"
      ]
     },
     "execution_count": 1,
     "metadata": {},
     "output_type": "execute_result"
    }
   ],
   "source": [
    "with open(\"Insurance_auto_data.csv\", \"r\") as f:\n",
    "    lines = f.readlines()\n",
    "lines[:5]"
   ]
  },
  {
   "cell_type": "code",
   "execution_count": 11,
   "id": "84a09a28-ce60-4fd3-9a2f-bb4243c1c2a0",
   "metadata": {},
   "outputs": [],
   "source": [
    "def clean_csv_data(file_path):\n",
    "    cleaned_data = []\n",
    "\n",
    "    with open(file_path, 'r', encoding='utf-8') as file:\n",
    "        lines = file.readlines()\n",
    "\n",
    "    headers = [h.strip() for h in lines[0].strip().split(',')]\n",
    "    \n",
    "    for line in lines[1:]:\n",
    "        values = [v.strip() for v in line.strip().split(',')]\n",
    "        if len(values) != len(headers):\n",
    "            continue  \n",
    "\n",
    "        row = dict(zip(headers, values))\n",
    "\n",
    "        \n",
    "        for key in ['CLAIM_AMOUNT', 'PREMIUM_COLLECTED', 'PAID_AMOUNT']:\n",
    "            try:\n",
    "                row[key] = float(row[key]) if row[key] else 0.0\n",
    "            except:\n",
    "                row[key] = 0.0\n",
    "\n",
    "        for key in headers:\n",
    "            if isinstance(row[key], str) and row[key].strip() == \"\":\n",
    "                row[key] = None\n",
    "\n",
    "        cleaned_data.append(row)\n",
    "\n",
    "    return cleaned_data\n"
   ]
  },
  {
   "cell_type": "code",
   "execution_count": 12,
   "id": "49b77f36-a2ee-48db-af92-a29293be20b9",
   "metadata": {},
   "outputs": [
    {
     "data": {
      "text/plain": [
       "[{'CLAIM_ID': 'CLM100021',\n",
       "  'CLAIM_DATE': '2025-04-01',\n",
       "  'CUSTOMER_ID': 'CUST14285',\n",
       "  'CLAIM_AMOUNT': 10419.0,\n",
       "  'PREMIUM_COLLECTED': 2198.59,\n",
       "  'PAID_AMOUNT': 6964.46,\n",
       "  'CITY': 'PUNE',\n",
       "  'REJECTION_REMARKS': None},\n",
       " {'CLAIM_ID': 'CLM100013',\n",
       "  'CLAIM_DATE': '2025-04-01',\n",
       "  'CUSTOMER_ID': 'CUST26471',\n",
       "  'CLAIM_AMOUNT': 42468.0,\n",
       "  'PREMIUM_COLLECTED': 8982.2,\n",
       "  'PAID_AMOUNT': 30119.67,\n",
       "  'CITY': 'GUWAHATI',\n",
       "  'REJECTION_REMARKS': None},\n",
       " {'CLAIM_ID': 'CLM100099',\n",
       "  'CLAIM_DATE': '2025-04-02',\n",
       "  'CUSTOMER_ID': 'CUST29309',\n",
       "  'CLAIM_AMOUNT': 55897.0,\n",
       "  'PREMIUM_COLLECTED': 1861.78,\n",
       "  'PAID_AMOUNT': 55657.15,\n",
       "  'CITY': 'GUWAHATI',\n",
       "  'REJECTION_REMARKS': None}]"
      ]
     },
     "execution_count": 12,
     "metadata": {},
     "output_type": "execute_result"
    }
   ],
   "source": [
    "data = clean_csv_data(\"Insurance_auto_data.csv\")\n",
    "data[:3]  \n"
   ]
  },
  {
   "cell_type": "code",
   "execution_count": 13,
   "id": "b50e48f8-580f-45b1-8a68-ffbd061920bf",
   "metadata": {},
   "outputs": [],
   "source": [
    "def analyze_city_performance(data):\n",
    "    cities = [\"PUNE\", \"KOLKATA\", \"RANCHI\", \"GUWAHATI\"]\n",
    "    summary = {}\n",
    "\n",
    "    for city in cities:\n",
    "        summary[city] = {\n",
    "            \"total_claims\": 0,\n",
    "            \"total_premium\": 0.0,\n",
    "            \"total_claim_amount\": 0.0,\n",
    "            \"rejected_claims\": 0\n",
    "        }\n",
    "\n",
    "    for row in data:\n",
    "        city = row.get(\"CITY\")\n",
    "        if city in summary:\n",
    "            summary[city][\"total_claims\"] += 1\n",
    "            summary[city][\"total_premium\"] += row[\"PREMIUM_COLLECTED\"]\n",
    "            summary[city][\"total_claim_amount\"] += row[\"CLAIM_AMOUNT\"]\n",
    "            if row[\"REJECTION_REMARKS\"] is not None:\n",
    "                summary[city][\"rejected_claims\"] += 1\n",
    "\n",
    "    return summary\n"
   ]
  },
  {
   "cell_type": "code",
   "execution_count": 14,
   "id": "9694cf5a-589a-4ccc-b249-022e5f70d331",
   "metadata": {},
   "outputs": [
    {
     "name": "stdout",
     "output_type": "stream",
     "text": [
      "\n",
      "📍 PUNE\n",
      "   Total Claims: 37\n",
      "   Total Premium: 369254.7900000001\n",
      "   Total Claim Amount: 1543919.0\n",
      "   Rejected Claims: 3\n",
      "\n",
      "📍 KOLKATA\n",
      "   Total Claims: 16\n",
      "   Total Premium: 140279.78\n",
      "   Total Claim Amount: 847893.0\n",
      "   Rejected Claims: 0\n",
      "\n",
      "📍 RANCHI\n",
      "   Total Claims: 17\n",
      "   Total Premium: 148858.6\n",
      "   Total Claim Amount: 570328.0\n",
      "   Rejected Claims: 2\n",
      "\n",
      "📍 GUWAHATI\n",
      "   Total Claims: 24\n",
      "   Total Premium: 261314.84000000005\n",
      "   Total Claim Amount: 1148030.0\n",
      "   Rejected Claims: 3\n"
     ]
    }
   ],
   "source": [
    "city_report = analyze_city_performance(data)\n",
    "for city, stats in city_report.items():\n",
    "    print(f\"\\n📍 {city}\")\n",
    "    for k, v in stats.items():\n",
    "        print(f\"   {k.replace('_', ' ').title()}: {v}\")\n"
   ]
  },
  {
   "cell_type": "code",
   "execution_count": 15,
   "id": "eabc742d-755c-483d-92e2-3507021689a7",
   "metadata": {},
   "outputs": [],
   "source": [
    "\n",
    "REJECTION_REASONS_MAP = {\n",
    "    \"fake_document\": \"Fake_document\",\n",
    "    \"not_covered\": \"Not_Covered\",\n",
    "    \"policy_expired\": \"Policy_expired\"\n",
    "}\n",
    "\n",
    "def handle_error(error_message):\n",
    "    print(f\"Error: {error_message}\")\n",
    "    return \"Error\"\n",
    "\n",
    "def contains_rejection_reason(rejection_text, reason):\n",
    "    try:\n",
    "        if rejection_text and isinstance(rejection_text, str):\n",
    "            return reason.lower() in rejection_text.lower()\n",
    "    except Exception as e:\n",
    "        handle_error(f\"Error in contains_rejection_reason: {str(e)}\")\n",
    "    return False\n",
    "\n",
    "def map_rejection_reason(rejection_text):\n",
    "    try:\n",
    "        if rejection_text and isinstance(rejection_text, str):\n",
    "            for reason, rejection_class in REJECTION_REASONS_MAP.items():\n",
    "                if contains_rejection_reason(rejection_text, reason):\n",
    "                    return rejection_class\n",
    "            return \"Unknown\"\n",
    "        else:\n",
    "            return \"NoRemark\"\n",
    "    except Exception as e:\n",
    "        handle_error(f\"Error in map_rejection_reason: {str(e)}\")\n",
    "        return \"Error\"\n",
    "\n",
    "def complex_rejection_classifier(remark_text):\n",
    "    try:\n",
    "        if not isinstance(remark_text, str) or len(remark_text.strip()) == 0:\n",
    "            return \"Invalid Remark\"\n",
    "\n",
    "        if contains_rejection_reason(remark_text, \"fake_document\"):\n",
    "            return \"Fake_document\"\n",
    "        elif contains_rejection_reason(remark_text, \"not_covered\"):\n",
    "            return \"Not_Covered\"\n",
    "        elif contains_rejection_reason(remark_text, \"policy_expired\"):\n",
    "            return \"Policy_expired\"\n",
    "        else:\n",
    "            return map_rejection_reason(remark_text)\n",
    "    except Exception as e:\n",
    "        handle_error(f\"Error in complex_rejection_classifier: {str(e)}\")\n",
    "        return \"Error\"\n"
   ]
  },
  {
   "cell_type": "code",
   "execution_count": null,
   "id": "f62e0747-9799-4bd3-a682-e71251beee50",
   "metadata": {},
   "outputs": [],
   "source": []
  },
  {
   "cell_type": "code",
   "execution_count": 16,
   "id": "77119435-a7f2-48dd-bcc6-1d8c1d00d682",
   "metadata": {},
   "outputs": [
    {
     "data": {
      "text/plain": [
       "[{'CLAIM_ID': 'CLM100038',\n",
       "  'CLAIM_DATE': '2025-04-10',\n",
       "  'CUSTOMER_ID': 'CUST55227',\n",
       "  'CLAIM_AMOUNT': 15564.0,\n",
       "  'PREMIUM_COLLECTED': 19124.37,\n",
       "  'PAID_AMOUNT': 0.0,\n",
       "  'CITY': 'PUNE',\n",
       "  'REJECTION_REMARKS': 'Rejection reason: Policy_expired in verification.',\n",
       "  'REJECTION_CLASS': 'Policy_expired'},\n",
       " {'CLAIM_ID': 'CLM100059',\n",
       "  'CLAIM_DATE': '2025-04-10',\n",
       "  'CUSTOMER_ID': 'CUST37384',\n",
       "  'CLAIM_AMOUNT': 72187.0,\n",
       "  'PREMIUM_COLLECTED': 6783.05,\n",
       "  'PAID_AMOUNT': 0.0,\n",
       "  'CITY': 'RANCHI',\n",
       "  'REJECTION_REMARKS': 'Policy rejected: Policy_expired noted.',\n",
       "  'REJECTION_CLASS': 'Policy_expired'},\n",
       " {'CLAIM_ID': 'CLM100096',\n",
       "  'CLAIM_DATE': '2025-04-14',\n",
       "  'CUSTOMER_ID': 'CUST24471',\n",
       "  'CLAIM_AMOUNT': 15373.0,\n",
       "  'PREMIUM_COLLECTED': 10412.56,\n",
       "  'PAID_AMOUNT': 0.0,\n",
       "  'CITY': 'PUNE',\n",
       "  'REJECTION_REMARKS': 'Fake_document reason led to rejection.',\n",
       "  'REJECTION_CLASS': 'Fake_document'},\n",
       " {'CLAIM_ID': 'CLM100090',\n",
       "  'CLAIM_DATE': '2025-04-17',\n",
       "  'CUSTOMER_ID': 'CUST61146',\n",
       "  'CLAIM_AMOUNT': 85451.0,\n",
       "  'PREMIUM_COLLECTED': 14714.23,\n",
       "  'PAID_AMOUNT': 0.0,\n",
       "  'CITY': 'GUWAHATI',\n",
       "  'REJECTION_REMARKS': 'Claim denied due to Policy_expired.',\n",
       "  'REJECTION_CLASS': 'Policy_expired'},\n",
       " {'CLAIM_ID': 'CLM100086',\n",
       "  'CLAIM_DATE': '2025-04-22',\n",
       "  'CUSTOMER_ID': 'CUST93808',\n",
       "  'CLAIM_AMOUNT': 97179.0,\n",
       "  'PREMIUM_COLLECTED': 5383.46,\n",
       "  'PAID_AMOUNT': 0.0,\n",
       "  'CITY': None,\n",
       "  'REJECTION_REMARKS': 'Case flagged as Policy_expired during audit.',\n",
       "  'REJECTION_CLASS': 'Policy_expired'}]"
      ]
     },
     "execution_count": 16,
     "metadata": {},
     "output_type": "execute_result"
    }
   ],
   "source": [
    "\n",
    "for row in data:\n",
    "    remark = row.get(\"REJECTION_REMARKS\")\n",
    "    row[\"REJECTION_CLASS\"] = complex_rejection_classifier(remark)\n",
    "\n",
    "# Show a few rows that had rejection remarks\n",
    "[x for x in data if x[\"REJECTION_CLASS\"] != \"Invalid Remark\"][:5]\n"
   ]
  },
  {
   "cell_type": "code",
   "execution_count": null,
   "id": "37aac86b-432b-4095-bff2-fbaed0318139",
   "metadata": {},
   "outputs": [],
   "source": []
  }
 ],
 "metadata": {
  "kernelspec": {
   "display_name": "Python 3 (ipykernel)",
   "language": "python",
   "name": "python3"
  },
  "language_info": {
   "codemirror_mode": {
    "name": "ipython",
    "version": 3
   },
   "file_extension": ".py",
   "mimetype": "text/x-python",
   "name": "python",
   "nbconvert_exporter": "python",
   "pygments_lexer": "ipython3",
   "version": "3.13.3"
  }
 },
 "nbformat": 4,
 "nbformat_minor": 5
}
